{
 "cells": [
  {
   "cell_type": "code",
   "execution_count": 1,
   "metadata": {},
   "outputs": [],
   "source": [
    "from sklearn.datasets import load_diabetes\n",
    "import numpy as np\n",
    "from sklearn import tree\n",
    "import sklearn.metrics as met \n"
   ]
  },
  {
   "cell_type": "code",
   "execution_count": 2,
   "metadata": {},
   "outputs": [
    {
     "data": {
      "text/plain": [
       "['DESCR', 'data', 'feature_names', 'target']"
      ]
     },
     "execution_count": 2,
     "metadata": {},
     "output_type": "execute_result"
    }
   ],
   "source": [
    "diab=load_diabetes()\n",
    "dir(diab)"
   ]
  },
  {
   "cell_type": "code",
   "execution_count": 8,
   "metadata": {},
   "outputs": [],
   "source": [
    "# x be array of random genearted indexes\n",
    "x=[11,22,44,55,100,110,150,170,190,200,210,250,400,410]\n",
    "\n",
    "#training data other than data stored at index x\n",
    "train_data=np.delete(diab.data,x,axis=0)\n",
    "\n",
    "#considering data at x index as test data\n",
    "test_data=diab.data[x]\n",
    "\n",
    "#target data for training\n",
    "train_target_data=np.delete(diab.target,x)\n",
    "\n",
    "# target test data\n",
    "test_target_data=diab.target[x]\n",
    "\n"
   ]
  },
  {
   "cell_type": "code",
   "execution_count": 9,
   "metadata": {},
   "outputs": [
    {
     "name": "stdout",
     "output_type": "stream",
     "text": [
      "[ 78. 113. 163.  75. 219.  68.  97.  88. 164.  64.  59. 141.  52. 196.]\n"
     ]
    }
   ],
   "source": [
    "#calling decision tree\n",
    "clf=tree.DecisionTreeClassifier()\n",
    "training=clf.fit(train_data,train_target_data)\n",
    "output=training.predict(test_data)\n",
    "\n",
    "#ouput of trainned data when test data is passed\n",
    "print(output)"
   ]
  },
  {
   "cell_type": "code",
   "execution_count": 10,
   "metadata": {},
   "outputs": [
    {
     "name": "stdout",
     "output_type": "stream",
     "text": [
      "[ 69.  68. 259. 128. 128. 104. 288.  47. 292. 158. 191. 303. 175. 209.]\n"
     ]
    }
   ],
   "source": [
    "#output of test data \n",
    "print(test_target_data)"
   ]
  },
  {
   "cell_type": "code",
   "execution_count": 11,
   "metadata": {},
   "outputs": [
    {
     "data": {
      "text/plain": [
       "0.0"
      ]
     },
     "execution_count": 11,
     "metadata": {},
     "output_type": "execute_result"
    }
   ],
   "source": [
    "met.accuracy_score(test_target_data,output)"
   ]
  },
  {
   "cell_type": "code",
   "execution_count": null,
   "metadata": {},
   "outputs": [],
   "source": []
  }
 ],
 "metadata": {
  "kernelspec": {
   "display_name": "Python 3",
   "language": "python",
   "name": "python3"
  },
  "language_info": {
   "codemirror_mode": {
    "name": "ipython",
    "version": 3
   },
   "file_extension": ".py",
   "mimetype": "text/x-python",
   "name": "python",
   "nbconvert_exporter": "python",
   "pygments_lexer": "ipython3",
   "version": "3.5.2"
  }
 },
 "nbformat": 4,
 "nbformat_minor": 2
}
